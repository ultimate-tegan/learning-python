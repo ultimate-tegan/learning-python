{
 "cells": [
  {
   "cell_type": "markdown",
   "metadata": {},
   "source": [
    "# Functions"
   ]
  },
  {
   "cell_type": "code",
   "execution_count": 1,
   "metadata": {},
   "outputs": [],
   "source": [
    "# Functions are functions. They don't need that much explaining. They contain instructions to do a thing. \n",
    "# You can run them. You can write your own, use inbuilt python functions, borrow other peoples, install libraries. \n",
    "# Good stuff. Here are some inbuilt functions. "
   ]
  },
  {
   "cell_type": "code",
   "execution_count": 2,
   "metadata": {},
   "outputs": [],
   "source": [
    "# Here's my new list\n",
    "harvest = [23,41,53,61,17,28,19]"
   ]
  },
  {
   "cell_type": "code",
   "execution_count": 3,
   "metadata": {},
   "outputs": [
    {
     "data": {
      "text/plain": [
       "7"
      ]
     },
     "execution_count": 3,
     "metadata": {},
     "output_type": "execute_result"
    }
   ],
   "source": [
    "# len calculates the number of characters, or items in a collection\n",
    "len (harvest)"
   ]
  },
  {
   "cell_type": "code",
   "execution_count": 4,
   "metadata": {},
   "outputs": [
    {
     "data": {
      "text/plain": [
       "242"
      ]
     },
     "execution_count": 4,
     "metadata": {},
     "output_type": "execute_result"
    }
   ],
   "source": [
    "# Sum adds the values\n",
    "sum (harvest)"
   ]
  },
  {
   "cell_type": "code",
   "execution_count": 5,
   "metadata": {},
   "outputs": [
    {
     "name": "stdout",
     "output_type": "stream",
     "text": [
      "242\n"
     ]
    }
   ],
   "source": [
    "# You can also assign the result of a function to a new variable\n",
    "harvest_total = sum (harvest)\n",
    "print (harvest_total)"
   ]
  },
  {
   "cell_type": "code",
   "execution_count": 6,
   "metadata": {},
   "outputs": [
    {
     "data": {
      "text/plain": [
       "[17, 19, 23, 28, 41, 53, 61]"
      ]
     },
     "execution_count": 6,
     "metadata": {},
     "output_type": "execute_result"
    }
   ],
   "source": [
    "# Sorted is a function, but sort is a method. \n",
    "# So sorted will create a new list as in the above functions, whereas wort will change the source variable. Observe:\n",
    "sorted (harvest)"
   ]
  },
  {
   "cell_type": "code",
   "execution_count": 7,
   "metadata": {},
   "outputs": [
    {
     "name": "stdout",
     "output_type": "stream",
     "text": [
      "[17, 19, 23, 28, 41, 53, 61]\n"
     ]
    }
   ],
   "source": [
    "harvest.sort()\n",
    "print (harvest)"
   ]
  },
  {
   "cell_type": "code",
   "execution_count": 8,
   "metadata": {},
   "outputs": [],
   "source": [
    "# You can create your own function using def (define). The structure is: def-> name of function -> formal parameters. \n",
    "# It's good practice to document your function using triple quotes. \n",
    "def add1(a):\n",
    "    \"\"\"\n",
    "    Adds 1 to a\n",
    "    \"\"\"\n",
    "    b=a+1\n",
    "    return b"
   ]
  },
  {
   "cell_type": "code",
   "execution_count": 9,
   "metadata": {},
   "outputs": [
    {
     "data": {
      "text/plain": [
       "6"
      ]
     },
     "execution_count": 9,
     "metadata": {},
     "output_type": "execute_result"
    }
   ],
   "source": [
    "# Test it out\n",
    "add1(5)"
   ]
  },
  {
   "cell_type": "code",
   "execution_count": 10,
   "metadata": {},
   "outputs": [
    {
     "name": "stdout",
     "output_type": "stream",
     "text": [
      "243\n"
     ]
    }
   ],
   "source": [
    "testo= add1(harvest_total)\n",
    "print (testo)"
   ]
  },
  {
   "cell_type": "code",
   "execution_count": 11,
   "metadata": {},
   "outputs": [
    {
     "name": "stdout",
     "output_type": "stream",
     "text": [
      "Help on function add1 in module __main__:\n",
      "\n",
      "add1(a)\n",
      "    Adds 1 to a\n",
      "\n"
     ]
    }
   ],
   "source": [
    "# You can then use the help function to display the documentation for the function. \n",
    "help (add1)"
   ]
  },
  {
   "cell_type": "code",
   "execution_count": 12,
   "metadata": {},
   "outputs": [
    {
     "data": {
      "text/plain": [
       "['red', 'orange', 'yellow', 'green', 'blue', 'indigo', 'violet']"
      ]
     },
     "execution_count": 12,
     "metadata": {},
     "output_type": "execute_result"
    }
   ],
   "source": [
    "# You can use loops in functions. God help us. Here's the rainbow again\n",
    "rainbow = ['red','orange','yellow','green','blue','indigo','violet']\n",
    "rainbow"
   ]
  },
  {
   "cell_type": "code",
   "execution_count": 13,
   "metadata": {},
   "outputs": [
    {
     "name": "stdout",
     "output_type": "stream",
     "text": [
      "0 red\n",
      "1 orange\n",
      "2 yellow\n",
      "3 green\n",
      "4 blue\n",
      "5 indigo\n",
      "6 violet\n"
     ]
    }
   ],
   "source": [
    "def fnloop(a):\n",
    "    for (i,colour) in enumerate(rainbow):\n",
    "        print (i,colour)\n",
    "fnloop(rainbow)"
   ]
  },
  {
   "cell_type": "code",
   "execution_count": 14,
   "metadata": {},
   "outputs": [
    {
     "name": "stdout",
     "output_type": "stream",
     "text": [
      "0 red\n",
      "1 orange\n",
      "2 yellow\n",
      "3 green\n",
      "4 blue\n",
      "5 indigo\n",
      "6 violet\n"
     ]
    }
   ],
   "source": [
    "# In the above example though, this function is basically not going to work with other lists? Or will it?\n",
    "fnloop(harvest)"
   ]
  },
  {
   "cell_type": "code",
   "execution_count": 19,
   "metadata": {},
   "outputs": [],
   "source": [
    "# Interesting. Can I leave the brackets empty then? NO."
   ]
  },
  {
   "cell_type": "code",
   "execution_count": 26,
   "metadata": {},
   "outputs": [],
   "source": [
    "# no. Maybe I'll try a less specific function\n",
    "def genloop(a):\n",
    "    for (i,v) in enumerate(list):\n",
    "        print (i,v)"
   ]
  },
  {
   "cell_type": "code",
   "execution_count": 25,
   "metadata": {},
   "outputs": [
    {
     "name": "stdout",
     "output_type": "stream",
     "text": [
      "the value for number 0 is red\n",
      "the value for number 1 is orange\n",
      "the value for number 2 is yellow\n",
      "the value for number 3 is green\n",
      "the value for number 4 is blue\n",
      "the value for number 5 is indigo\n",
      "the value for number 6 is violet\n"
     ]
    }
   ],
   "source": [
    "# Nope. that only works if 'list' is defined. OK. So I'm not sure why I would make this function. Moving on.\n",
    "# We can make it clearer by printing labels as well. \n",
    "def fancyloop(a):\n",
    "    for (i,colour) in enumerate(rainbow):\n",
    "        print ('the value for number',i,'is',colour)\n",
    "fancyloop(rainbow)"
   ]
  },
  {
   "cell_type": "code",
   "execution_count": null,
   "metadata": {},
   "outputs": [],
   "source": [
    "# So this part of the tutorial is trying to tell me that an asterisk allows me to have any number of variables\n",
    "# I thought I already had that. like, I don't get it. "
   ]
  },
  {
   "cell_type": "code",
   "execution_count": null,
   "metadata": {},
   "outputs": [],
   "source": []
  },
  {
   "cell_type": "code",
   "execution_count": null,
   "metadata": {},
   "outputs": [],
   "source": []
  }
 ],
 "metadata": {
  "kernelspec": {
   "display_name": "Python 3",
   "language": "python",
   "name": "python3"
  },
  "language_info": {
   "codemirror_mode": {
    "name": "ipython",
    "version": 3
   },
   "file_extension": ".py",
   "mimetype": "text/x-python",
   "name": "python",
   "nbconvert_exporter": "python",
   "pygments_lexer": "ipython3",
   "version": "3.8.3"
  }
 },
 "nbformat": 4,
 "nbformat_minor": 4
}
