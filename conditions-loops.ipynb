{
 "cells": [
  {
   "cell_type": "markdown",
   "metadata": {},
   "source": [
    "# Conditions"
   ]
  },
  {
   "cell_type": "markdown",
   "metadata": {},
   "source": [
    "Let's see if a value meets some conditions using comparison operators."
   ]
  },
  {
   "cell_type": "code",
   "execution_count": 1,
   "metadata": {},
   "outputs": [
    {
     "data": {
      "text/plain": [
       "False"
      ]
     },
     "execution_count": 1,
     "metadata": {},
     "output_type": "execute_result"
    }
   ],
   "source": [
    "# If x=5, does x=6?\n",
    "x=5\n",
    "x==6"
   ]
  },
  {
   "cell_type": "code",
   "execution_count": 2,
   "metadata": {},
   "outputs": [
    {
     "data": {
      "text/plain": [
       "True"
      ]
     },
     "execution_count": 2,
     "metadata": {},
     "output_type": "execute_result"
    }
   ],
   "source": [
    "# Is x bigger than 4?\n",
    "x>4"
   ]
  },
  {
   "cell_type": "code",
   "execution_count": 3,
   "metadata": {},
   "outputs": [
    {
     "data": {
      "text/plain": [
       "True"
      ]
     },
     "execution_count": 3,
     "metadata": {},
     "output_type": "execute_result"
    }
   ],
   "source": [
    "# Is x greater than or equal to 3?\n",
    "x >= 3"
   ]
  },
  {
   "cell_type": "code",
   "execution_count": 4,
   "metadata": {},
   "outputs": [
    {
     "data": {
      "text/plain": [
       "True"
      ]
     },
     "execution_count": 4,
     "metadata": {},
     "output_type": "execute_result"
    }
   ],
   "source": [
    "# Does x NOT equal 6?\n",
    "x!=6"
   ]
  },
  {
   "cell_type": "markdown",
   "metadata": {},
   "source": [
    "You can also use this on strings. "
   ]
  },
  {
   "cell_type": "code",
   "execution_count": 6,
   "metadata": {},
   "outputs": [
    {
     "data": {
      "text/plain": [
       "True"
      ]
     },
     "execution_count": 6,
     "metadata": {},
     "output_type": "execute_result"
    }
   ],
   "source": [
    "\"Rice\"!=\"Chicken\""
   ]
  },
  {
   "cell_type": "code",
   "execution_count": 7,
   "metadata": {},
   "outputs": [
    {
     "data": {
      "text/plain": [
       "False"
      ]
     },
     "execution_count": 7,
     "metadata": {},
     "output_type": "execute_result"
    }
   ],
   "source": [
    "\"Rice\"==\"Chicken\""
   ]
  },
  {
   "cell_type": "markdown",
   "metadata": {},
   "source": [
    "An if statement acts as a filter. If your name's not on the list, you can't come in. "
   ]
  },
  {
   "cell_type": "code",
   "execution_count": 13,
   "metadata": {},
   "outputs": [
    {
     "name": "stdout",
     "output_type": "stream",
     "text": [
      "come in\n",
      "dance\n"
     ]
    }
   ],
   "source": [
    "# example, under 18s are not allowed in. But anyone can dance. Test by changing the value of the variable age.\n",
    "age=19\n",
    "if (age>18):\n",
    "    print (\"come in\")\n",
    "print (\"dance\")"
   ]
  },
  {
   "cell_type": "code",
   "execution_count": 36,
   "metadata": {},
   "outputs": [
    {
     "name": "stdout",
     "output_type": "stream",
     "text": [
      "Go home\n",
      "dance\n"
     ]
    }
   ],
   "source": [
    "# We can also add an else statement. So we're telling the kids, basically you're going to have to dance at home. \n",
    "age=17\n",
    "if (age>18):\n",
    "    print (\"Come in\")\n",
    "else:\n",
    "        print(\"Go home\")\n",
    "print (\"dance\")"
   ]
  },
  {
   "cell_type": "code",
   "execution_count": 21,
   "metadata": {},
   "outputs": [],
   "source": [
    "# Now stuff is getting really crazy. Elif is short for else if. And now I'm confused about the order of operation. Jebus."
   ]
  },
  {
   "cell_type": "markdown",
   "metadata": {},
   "source": [
    "OK, I found this quite useful: https://www.datacamp.com/community/tutorials/elif-statements-python"
   ]
  },
  {
   "cell_type": "code",
   "execution_count": null,
   "metadata": {},
   "outputs": [],
   "source": [
    "# So you can add as many elifs between if and else as you need, and it acts as another if. \n",
    "# But does that mean you can meet multiple conditions? Let's test it."
   ]
  },
  {
   "cell_type": "code",
   "execution_count": 46,
   "metadata": {},
   "outputs": [
    {
     "name": "stdout",
     "output_type": "stream",
     "text": [
      "Come in\n",
      "dance\n"
     ]
    }
   ],
   "source": [
    "age=80\n",
    "if (age>18):\n",
    "    print (\"Come in\")\n",
    "elif (age>72):\n",
    "    print (\"Front of the queue\")\n",
    "else:\n",
    "    print(\"Go home\")\n",
    "print (\"dance\")"
   ]
  },
  {
   "cell_type": "code",
   "execution_count": 44,
   "metadata": {},
   "outputs": [],
   "source": [
    "# OK so when the variable met two conditions, only the first was printed. Hmm. Try it the other way around. "
   ]
  },
  {
   "cell_type": "code",
   "execution_count": 47,
   "metadata": {},
   "outputs": [
    {
     "name": "stdout",
     "output_type": "stream",
     "text": [
      "Front of the queue\n",
      "dance\n"
     ]
    }
   ],
   "source": [
    "age=80\n",
    "if (age>72):\n",
    "    print (\"Front of the queue\")\n",
    "elif (age>18):\n",
    "    print (\"Come in\")\n",
    "else:\n",
    "    print(\"Go home\")\n",
    "print (\"dance\")"
   ]
  },
  {
   "cell_type": "code",
   "execution_count": 55,
   "metadata": {},
   "outputs": [
    {
     "name": "stdout",
     "output_type": "stream",
     "text": [
      "You live in an apartment.\n",
      "It's quite spacious.\n"
     ]
    }
   ],
   "source": [
    "# This works but I feel like there's probably an operand to express a range that would do a better job of this.\n",
    "# Here's a better example from the above link. \n",
    "house_type = 'apartment'\n",
    "area = 100\n",
    "if (house_type=='apartment'):\n",
    "    print (\"You live in an apartment.\")\n",
    "elif (house_type=='house'):\n",
    "    print (\"You live in a house.\")\n",
    "elif (house_type=='duplex'):\n",
    "    print (\"You live in a duplex\")\n",
    "else:\n",
    "    print (\"You live somewhere.\")\n",
    "# Here's the bit to say something about the area\n",
    "if (area<35):\n",
    "    print (\"Good lord it's small.\")\n",
    "elif (area<75):\n",
    "    print (\"It's cosy.\")\n",
    "elif (area<150):\n",
    "    print (\"It's quite spacious.\")\n",
    "else:\n",
    "    print (\"Holy hell it's massive.\")"
   ]
  },
  {
   "cell_type": "markdown",
   "metadata": {},
   "source": [
    "## Logic operators"
   ]
  },
  {
   "cell_type": "code",
   "execution_count": 65,
   "metadata": {},
   "outputs": [
    {
     "name": "stdout",
     "output_type": "stream",
     "text": [
      "First drink is free\n"
     ]
    }
   ],
   "source": [
    "# So in this case I want to apply an operation to two different conditions. \n",
    "# If your name is Kelly or Jason you get a free drink today. \n",
    "name='jason'\n",
    "if (name=='kelly' or name=='jason'):\n",
    "    print ('First drink is free')\n",
    "else:\n",
    "    print ('Pay for this one')"
   ]
  },
  {
   "cell_type": "code",
   "execution_count": 76,
   "metadata": {},
   "outputs": [
    {
     "name": "stdout",
     "output_type": "stream",
     "text": [
      "Customers drink is not free\n"
     ]
    }
   ],
   "source": [
    "# Since only the first drink is free, I'll add an AND statement to each of those conditions\n",
    "name='kelly'\n",
    "order_number=3\n",
    "if (name=='kelly' and order_number==1 or name=='jason' and order_number==1):\n",
    "    print ('Customers drink is free')\n",
    "else:\n",
    "    print ('Customers drink is not free')"
   ]
  },
  {
   "cell_type": "markdown",
   "metadata": {},
   "source": [
    "# Loops"
   ]
  },
  {
   "cell_type": "code",
   "execution_count": 79,
   "metadata": {},
   "outputs": [
    {
     "data": {
      "text/plain": [
       "range(3, 15)"
      ]
     },
     "execution_count": 79,
     "metadata": {},
     "output_type": "execute_result"
    }
   ],
   "source": [
    "# A Range is an example of a loop. Here's a range. \n",
    "range(3,15)"
   ]
  },
  {
   "cell_type": "code",
   "execution_count": 2,
   "metadata": {},
   "outputs": [
    {
     "data": {
      "text/plain": [
       "['red', 'orange', 'yellow', 'green', 'blue', 'indigo', 'violet']"
      ]
     },
     "execution_count": 2,
     "metadata": {},
     "output_type": "execute_result"
    }
   ],
   "source": [
    "# 'for' loops. \n",
    "rainbow=['red','orange','yellow','green','blue','indigo','violet']\n",
    "rainbow"
   ]
  },
  {
   "cell_type": "code",
   "execution_count": 110,
   "metadata": {},
   "outputs": [
    {
     "name": "stdout",
     "output_type": "stream",
     "text": [
      "['black', 'black', 'black', 'black', 'black', 'indigo', 'violet']\n"
     ]
    }
   ],
   "source": [
    "# Let's change every colour to black using a 'for' loop.\n",
    "for i in range (0,5):\n",
    "    rainbow[i]= 'black'\n",
    "print (rainbow)"
   ]
  },
  {
   "cell_type": "code",
   "execution_count": 117,
   "metadata": {},
   "outputs": [
    {
     "name": "stdout",
     "output_type": "stream",
     "text": [
      "red\n",
      "orange\n",
      "yellow\n",
      "green\n",
      "blue\n",
      "indigo\n",
      "violet\n"
     ]
    }
   ],
   "source": [
    "# You don't necessarily need to use indices\n",
    "for colours in rainbow:\n",
    "    print (colours)"
   ]
  },
  {
   "cell_type": "code",
   "execution_count": 118,
   "metadata": {},
   "outputs": [],
   "source": [
    "#enumerate ???"
   ]
  },
  {
   "cell_type": "code",
   "execution_count": 120,
   "metadata": {},
   "outputs": [
    {
     "name": "stdout",
     "output_type": "stream",
     "text": [
      "1982\n",
      "1980\n",
      "1973\n"
     ]
    }
   ],
   "source": [
    "# Create a variable N for the length of your list\n",
    "dates = [1982,1980,1973]\n",
    "N = len(dates)\n",
    "\n",
    "for i in range(N):\n",
    "    print(dates[i])"
   ]
  },
  {
   "cell_type": "code",
   "execution_count": 5,
   "metadata": {},
   "outputs": [
    {
     "name": "stdout",
     "output_type": "stream",
     "text": [
      "0 red\n",
      "1 orange\n",
      "2 yellow\n",
      "3 green\n",
      "4 blue\n",
      "5 indigo\n",
      "6 violet\n"
     ]
    }
   ],
   "source": [
    "# This is useful: https://realpython.com/python-enumerate/\n",
    "# In this scenario, I'm wanting to know how many times my loops has iterated by numbering the iterations\n",
    "# One way to do this is:\n",
    "\n",
    "index=0\n",
    "\n",
    "for colour in rainbow:\n",
    "    print (index,colour)\n",
    "    index += 1    \n",
    "    "
   ]
  },
  {
   "cell_type": "code",
   "execution_count": 6,
   "metadata": {},
   "outputs": [
    {
     "name": "stdout",
     "output_type": "stream",
     "text": [
      "0 red\n",
      "1 orange\n",
      "2 yellow\n",
      "3 green\n",
      "4 blue\n",
      "5 indigo\n",
      "6 violet\n"
     ]
    }
   ],
   "source": [
    "# The other way to do it is as in the above example, using range and len. This way you don't have to tell the code to update the index.\n",
    "\n",
    "for index in range(len(rainbow)):\n",
    "    colour = rainbow[index]\n",
    "    print(index, colour)"
   ]
  },
  {
   "cell_type": "code",
   "execution_count": 9,
   "metadata": {},
   "outputs": [
    {
     "name": "stdout",
     "output_type": "stream",
     "text": [
      "0 red\n",
      "1 orange\n",
      "2 yellow\n",
      "3 green\n",
      "4 blue\n",
      "5 indigo\n",
      "6 violet\n"
     ]
    }
   ],
   "source": [
    "# I don't totally understand that one.\n",
    "# In any case, both of these are pretty bad form and it's better to use enumerate. \n",
    "# Instead of putting the iterable directly after in in the for loop, you put it inside the parentheses of enumerate(). \n",
    "# You also have to change the loop variable a little bit, as shown in this example:\n",
    "for count, colour in enumerate(rainbow):\n",
    "    print (count, colour)"
   ]
  },
  {
   "cell_type": "code",
   "execution_count": null,
   "metadata": {},
   "outputs": [],
   "source": []
  }
 ],
 "metadata": {
  "kernelspec": {
   "display_name": "Python 3",
   "language": "python",
   "name": "python3"
  },
  "language_info": {
   "codemirror_mode": {
    "name": "ipython",
    "version": 3
   },
   "file_extension": ".py",
   "mimetype": "text/x-python",
   "name": "python",
   "nbconvert_exporter": "python",
   "pygments_lexer": "ipython3",
   "version": "3.8.3"
  }
 },
 "nbformat": 4,
 "nbformat_minor": 4
}
