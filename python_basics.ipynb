{
 "cells": [
  {
   "cell_type": "markdown",
   "metadata": {},
   "source": [
    "# Python Basics and Data Structures"
   ]
  },
  {
   "cell_type": "markdown",
   "metadata": {},
   "source": [
    "## Contents\n",
    "<ol>\n",
    "    <li><a href=\"#1\">Strings, Integers, Floats and Booleans</a></li>\n",
    "        <li><a href=\"#2\">String operations</a></li>\n",
    "        <li><a href=\"#3\">Collections: Tuples, Lists, Sets, Dictionaries</a></li>\n",
    "        <li><a href=\"#4\">Tuple operations</a></li>\n",
    "        <li><a href=\"#5\">List operations</a></li>\n",
    "        <li><a href=\"#6\">Set operations</a></li>\n",
    "        <li><a href=\"#7\">Dictionary operations</a></li>\n",
    "</ol>"
   ]
  },
  {
   "cell_type": "markdown",
   "metadata": {},
   "source": [
    "<h2 id=\"1\">1. Strings, Integers, Floats and Booleans</h2>"
   ]
  },
  {
   "cell_type": "code",
   "execution_count": 1,
   "metadata": {},
   "outputs": [
    {
     "data": {
      "text/plain": [
       "\"Here's a motherflipping string\""
      ]
     },
     "execution_count": 1,
     "metadata": {},
     "output_type": "execute_result"
    }
   ],
   "source": [
    "# You can make a string by adding anything into parentheses:\n",
    "\"Here's a motherflipping string\""
   ]
  },
  {
   "cell_type": "code",
   "execution_count": 2,
   "metadata": {},
   "outputs": [],
   "source": [
    "# That way to do it seems pretty dumb though, since you can't really refer to it or use it in any way?\n",
    "# So better to name the string something and then equals\n",
    "stringo = \"string, bitches!\""
   ]
  },
  {
   "cell_type": "code",
   "execution_count": 3,
   "metadata": {},
   "outputs": [
    {
     "name": "stdout",
     "output_type": "stream",
     "text": [
      "string, bitches!\n"
     ]
    }
   ],
   "source": [
    "# Print it by saying print, and then putting the name in brackets. \n",
    "print (stringo)"
   ]
  },
  {
   "cell_type": "code",
   "execution_count": 4,
   "metadata": {},
   "outputs": [
    {
     "data": {
      "text/plain": [
       "str"
      ]
     },
     "execution_count": 4,
     "metadata": {},
     "output_type": "execute_result"
    }
   ],
   "source": [
    "# Heck yeah. Now let's confirm that it is indeed a string\n",
    "type (stringo)"
   ]
  },
  {
   "cell_type": "code",
   "execution_count": 5,
   "metadata": {},
   "outputs": [
    {
     "data": {
      "text/plain": [
       "1.2"
      ]
     },
     "execution_count": 5,
     "metadata": {},
     "output_type": "execute_result"
    }
   ],
   "source": [
    "# Now let's repeat this sweet nonsense with integers and floats\n",
    "1.2"
   ]
  },
  {
   "cell_type": "code",
   "execution_count": 6,
   "metadata": {},
   "outputs": [
    {
     "data": {
      "text/plain": [
       "1"
      ]
     },
     "execution_count": 6,
     "metadata": {},
     "output_type": "execute_result"
    }
   ],
   "source": [
    "# That was a float, which is a dumb name for a number that is expressed as a decimal. \n",
    "# Here's an integer.\n",
    "1"
   ]
  },
  {
   "cell_type": "code",
   "execution_count": 7,
   "metadata": {},
   "outputs": [
    {
     "name": "stdout",
     "output_type": "stream",
     "text": [
      "3.2\n"
     ]
    },
    {
     "data": {
      "text/plain": [
       "float"
      ]
     },
     "execution_count": 7,
     "metadata": {},
     "output_type": "execute_result"
    }
   ],
   "source": [
    "# Holy shit, amazing. A number not expressed as a decimal. Let's name one of each of these and then check their types. \n",
    "floaty=3.2\n",
    "print(floaty)\n",
    "type(floaty)"
   ]
  },
  {
   "cell_type": "code",
   "execution_count": 8,
   "metadata": {},
   "outputs": [
    {
     "name": "stdout",
     "output_type": "stream",
     "text": [
      "1\n"
     ]
    },
    {
     "data": {
      "text/plain": [
       "int"
      ]
     },
     "execution_count": 8,
     "metadata": {},
     "output_type": "execute_result"
    }
   ],
   "source": [
    "integrino=1\n",
    "print(integrino)\n",
    "type(integrino)"
   ]
  },
  {
   "cell_type": "code",
   "execution_count": 9,
   "metadata": {},
   "outputs": [
    {
     "name": "stdout",
     "output_type": "stream",
     "text": [
      "True\n"
     ]
    },
    {
     "data": {
      "text/plain": [
       "bool"
      ]
     },
     "execution_count": 9,
     "metadata": {},
     "output_type": "execute_result"
    }
   ],
   "source": [
    "# A Boolean is a 1 or 0, pretty much; indicating true or false. Still not super sure on this one\n",
    "booleranti=bool(1)\n",
    "print(booleranti)\n",
    "type(booleranti)"
   ]
  },
  {
   "cell_type": "code",
   "execution_count": 10,
   "metadata": {},
   "outputs": [
    {
     "data": {
      "text/plain": [
       "True"
      ]
     },
     "execution_count": 10,
     "metadata": {},
     "output_type": "execute_result"
    }
   ],
   "source": [
    "# Finally, I don't really get why since it doesn't seem to work with a variable(?), but you can assign the type as well. \n",
    "bool(1)"
   ]
  },
  {
   "cell_type": "markdown",
   "metadata": {},
   "source": [
    "<h2 id=\"2\"> 2. String operations</h2>"
   ]
  },
  {
   "cell_type": "code",
   "execution_count": 11,
   "metadata": {},
   "outputs": [
    {
     "data": {
      "text/plain": [
       "'itch'"
      ]
     },
     "execution_count": 11,
     "metadata": {},
     "output_type": "execute_result"
    }
   ],
   "source": [
    "# Do the thrills end here? No they certainly do not. Let's refer to some individual variables within stringo. \n",
    "# Characters in the string are indexed beginning at 0. Let's find characters 9 to 13.\n",
    "stringo[9:13]"
   ]
  },
  {
   "cell_type": "code",
   "execution_count": 12,
   "metadata": {},
   "outputs": [
    {
     "data": {
      "text/plain": [
       "'srn,bths'"
      ]
     },
     "execution_count": 12,
     "metadata": {},
     "output_type": "execute_result"
    }
   ],
   "source": [
    "# For reasons unknown, I may want every second variable (value?) Yes let's say value. In that string. Check it out\n",
    "stringo [::2]"
   ]
  },
  {
   "cell_type": "code",
   "execution_count": 13,
   "metadata": {},
   "outputs": [
    {
     "name": "stdout",
     "output_type": "stream",
     "text": [
      "string, bitches!\n"
     ]
    },
    {
     "data": {
      "text/plain": [
       "'n,b'"
      ]
     },
     "execution_count": 13,
     "metadata": {},
     "output_type": "execute_result"
    }
   ],
   "source": [
    "# Now I can extend this square-bracket-referring shit all the way and fill all three values in the structure \n",
    "# ...to get something truly abstract. First I'll remind us of the full stringo\n",
    "# I'm going to display every second character between characters 4 and 10.\n",
    "print (stringo)\n",
    "stringo[4:10:2]"
   ]
  },
  {
   "cell_type": "code",
   "execution_count": 14,
   "metadata": {},
   "outputs": [
    {
     "data": {
      "text/plain": [
       "9"
      ]
     },
     "execution_count": 14,
     "metadata": {},
     "output_type": "execute_result"
    }
   ],
   "source": [
    "# I can search for stuff inside a string, as well. \n",
    "stringo.find('itch')"
   ]
  },
  {
   "cell_type": "code",
   "execution_count": 15,
   "metadata": {},
   "outputs": [
    {
     "name": "stdout",
     "output_type": "stream",
     "text": [
      "it's a \n"
     ]
    }
   ],
   "source": [
    "# Let's create a new string and add it to the OG string, stringo\n",
    "stringy = \"it's a \"\n",
    "print (stringy)"
   ]
  },
  {
   "cell_type": "code",
   "execution_count": 16,
   "metadata": {},
   "outputs": [
    {
     "name": "stdout",
     "output_type": "stream",
     "text": [
      "it's a string, bitches!\n"
     ]
    }
   ],
   "source": [
    "stringman = stringy + stringo\n",
    "print (stringman)"
   ]
  },
  {
   "cell_type": "markdown",
   "metadata": {},
   "source": [
    "<h2 id=\"3\">3. Collections: Tuples, Lists, Sets, Dictionaries</h2>"
   ]
  },
  {
   "cell_type": "markdown",
   "metadata": {},
   "source": [
    "Collections: definitions and differences\n",
    "Mutable lists/ Immutable tuples\n",
    "Unlike lists and tuples, sets are unordered. They also contain unique elements, so if you add two of the same it will only count once in the set.\n",
    "Dictionaries are exciting becuase you control the key as well as the value. Where in a standard dictionary, the key is the word and the value is the definition. "
   ]
  },
  {
   "cell_type": "code",
   "execution_count": 17,
   "metadata": {},
   "outputs": [
    {
     "data": {
      "text/plain": [
       "tuple"
      ]
     },
     "execution_count": 17,
     "metadata": {},
     "output_type": "execute_result"
    }
   ],
   "source": [
    "# OK well here's a tuple. The computer knows it's a tuple because of the round brackets.\n",
    "# A tuple can contain strings, floats and integers.\n",
    "refrigerator = (\"vegetables\",\"milk\",\"beer\")\n",
    "type(refrigerator)"
   ]
  },
  {
   "cell_type": "code",
   "execution_count": 18,
   "metadata": {},
   "outputs": [
    {
     "data": {
      "text/plain": [
       "list"
      ]
     },
     "execution_count": 18,
     "metadata": {},
     "output_type": "execute_result"
    }
   ],
   "source": [
    "# And here's a list. Note the square brackets.\n",
    "pantry = [\"legumes\", \"spices\", \"snacks\"]\n",
    "type(pantry)"
   ]
  },
  {
   "cell_type": "code",
   "execution_count": 19,
   "metadata": {},
   "outputs": [
    {
     "data": {
      "text/plain": [
       "set"
      ]
     },
     "execution_count": 19,
     "metadata": {},
     "output_type": "execute_result"
    }
   ],
   "source": [
    "# Here's a set! Note the curly brackets.\n",
    "wardrobe = {\"dresses\",\"shoes\",\"tops\"}\n",
    "type(wardrobe)"
   ]
  },
  {
   "cell_type": "code",
   "execution_count": 20,
   "metadata": {},
   "outputs": [
    {
     "data": {
      "text/plain": [
       "{'legumes': ['rice', 'beans', 'lentils'],\n",
       " 'spices': ['cumin', 'paprika', 'cinnamon']}"
      ]
     },
     "execution_count": 20,
     "metadata": {},
     "output_type": "execute_result"
    }
   ],
   "source": [
    "# Time for a dictionary.\n",
    "pantry_dict = {\"legumes\":[\"rice\", \"beans\", \"lentils\"], \"spices\":[\"cumin\",\"paprika\",\"cinnamon\"]}\n",
    "pantry_dict"
   ]
  },
  {
   "cell_type": "markdown",
   "metadata": {},
   "source": [
    "<h2 id=\"4\"> 4. Tuple operations</h2>"
   ]
  },
  {
   "cell_type": "markdown",
   "metadata": {},
   "source": [
    "Tuples and lists can contain string, integers and / or floats. They are ordered and indexed."
   ]
  },
  {
   "cell_type": "code",
   "execution_count": 21,
   "metadata": {},
   "outputs": [
    {
     "name": "stdout",
     "output_type": "stream",
     "text": [
      "('vegetables', 'milk', 'beer')\n"
     ]
    },
    {
     "data": {
      "text/plain": [
       "tuple"
      ]
     },
     "execution_count": 21,
     "metadata": {},
     "output_type": "execute_result"
    }
   ],
   "source": [
    "# Remember our tuple\n",
    "print(refrigerator)\n",
    "type(refrigerator)"
   ]
  },
  {
   "cell_type": "code",
   "execution_count": 22,
   "metadata": {},
   "outputs": [
    {
     "name": "stdout",
     "output_type": "stream",
     "text": [
      "beer\n"
     ]
    }
   ],
   "source": [
    "# Print values within the tuple\n",
    "print(refrigerator[2])"
   ]
  },
  {
   "cell_type": "code",
   "execution_count": 23,
   "metadata": {},
   "outputs": [
    {
     "data": {
      "text/plain": [
       "3"
      ]
     },
     "execution_count": 23,
     "metadata": {},
     "output_type": "execute_result"
    }
   ],
   "source": [
    "# How long is the tuple (how many items)?\n",
    "len(refrigerator)"
   ]
  },
  {
   "cell_type": "code",
   "execution_count": 24,
   "metadata": {},
   "outputs": [
    {
     "data": {
      "text/plain": [
       "1"
      ]
     },
     "execution_count": 24,
     "metadata": {},
     "output_type": "execute_result"
    }
   ],
   "source": [
    "# Find what number an item is in the index\n",
    "refrigerator.index(\"milk\")"
   ]
  },
  {
   "cell_type": "code",
   "execution_count": 25,
   "metadata": {},
   "outputs": [
    {
     "name": "stdout",
     "output_type": "stream",
     "text": [
      "<class 'str'>\n"
     ]
    }
   ],
   "source": [
    "# Discover types of values within the tuple\n",
    "print(type(refrigerator[2]))"
   ]
  },
  {
   "cell_type": "code",
   "execution_count": 26,
   "metadata": {},
   "outputs": [
    {
     "data": {
      "text/plain": [
       "['beer', 'milk', 'vegetables']"
      ]
     },
     "execution_count": 26,
     "metadata": {},
     "output_type": "execute_result"
    }
   ],
   "source": [
    "# Create a sorted tuple from our existing tuple\n",
    "refrigerator_sorted = sorted(refrigerator)\n",
    "refrigerator_sorted"
   ]
  },
  {
   "cell_type": "code",
   "execution_count": 27,
   "metadata": {},
   "outputs": [],
   "source": [
    "# Create an additional tuple by typecasting the pantry list\n",
    "pantry_tuple = tuple(pantry)"
   ]
  },
  {
   "cell_type": "code",
   "execution_count": 28,
   "metadata": {},
   "outputs": [
    {
     "data": {
      "text/plain": [
       "('vegetables', 'milk', 'beer', 'legumes', 'spices', 'snacks')"
      ]
     },
     "execution_count": 28,
     "metadata": {},
     "output_type": "execute_result"
    }
   ],
   "source": [
    "# Concatenate the two tuples\n",
    "kitchen = refrigerator + pantry_tuple\n",
    "kitchen"
   ]
  },
  {
   "cell_type": "code",
   "execution_count": 29,
   "metadata": {},
   "outputs": [
    {
     "data": {
      "text/plain": [
       "(['beans', 'rice', 'lentils'],\n",
       " 'snacks',\n",
       " ['cinnamon sticks', 'sichuan pepper', 'star anise'])"
      ]
     },
     "execution_count": 29,
     "metadata": {},
     "output_type": "execute_result"
    }
   ],
   "source": [
    "# You can also nest tuples. \n",
    "pantry_nested = ([\"beans\",\"rice\",\"lentils\"],\"snacks\",[\"cinnamon sticks\", \"sichuan pepper\", \"star anise\"])\n",
    "pantry_nested"
   ]
  },
  {
   "cell_type": "code",
   "execution_count": 30,
   "metadata": {},
   "outputs": [
    {
     "data": {
      "text/plain": [
       "'sichuan pepper'"
      ]
     },
     "execution_count": 30,
     "metadata": {},
     "output_type": "execute_result"
    }
   ],
   "source": [
    "# And then display nested items by calling them using their index number\n",
    "pantry_nested[2][1]\n"
   ]
  },
  {
   "cell_type": "code",
   "execution_count": 31,
   "metadata": {},
   "outputs": [
    {
     "data": {
      "text/plain": [
       "'h'"
      ]
     },
     "execution_count": 31,
     "metadata": {},
     "output_type": "execute_result"
    }
   ],
   "source": [
    "# You can burrow even further into the string\n",
    "pantry_nested[2][1][3]"
   ]
  },
  {
   "cell_type": "markdown",
   "metadata": {},
   "source": [
    "<h2 id=\"5\"> 5. List operations</h2>"
   ]
  },
  {
   "cell_type": "code",
   "execution_count": 32,
   "metadata": {},
   "outputs": [
    {
     "data": {
      "text/plain": [
       "['legumes', 'spices', 'snacks']"
      ]
     },
     "execution_count": 32,
     "metadata": {},
     "output_type": "execute_result"
    }
   ],
   "source": [
    "# Let's remember our list\n",
    "pantry"
   ]
  },
  {
   "cell_type": "code",
   "execution_count": 33,
   "metadata": {},
   "outputs": [
    {
     "data": {
      "text/plain": [
       "'snacks'"
      ]
     },
     "execution_count": 33,
     "metadata": {},
     "output_type": "execute_result"
    }
   ],
   "source": [
    "# Indexing seems to work the same way as in tuples.\n",
    "pantry[2]"
   ]
  },
  {
   "cell_type": "code",
   "execution_count": 34,
   "metadata": {},
   "outputs": [
    {
     "data": {
      "text/plain": [
       "['legumes', 'spices', 'snacks', 'cereals', 'spreads']"
      ]
     },
     "execution_count": 34,
     "metadata": {},
     "output_type": "execute_result"
    }
   ],
   "source": [
    "# 'Extend' adds items to the list as individual values\n",
    "pantry.extend(['cereals', 'spreads'])\n",
    "pantry"
   ]
  },
  {
   "cell_type": "code",
   "execution_count": 35,
   "metadata": {},
   "outputs": [
    {
     "data": {
      "text/plain": [
       "['legumes', 'spices', 'snacks', 'cereals', 'spreads', ['cereals', 'spreads']]"
      ]
     },
     "execution_count": 35,
     "metadata": {},
     "output_type": "execute_result"
    }
   ],
   "source": [
    "# 'Append' adds those same items but as an individual item; a list\n",
    "pantry.append([\"cereals\", \"spreads\"])\n",
    "pantry"
   ]
  },
  {
   "cell_type": "code",
   "execution_count": 36,
   "metadata": {},
   "outputs": [
    {
     "data": {
      "text/plain": [
       "['legumes', 'spices', 'snacks', 'cereals', 'spreads']"
      ]
     },
     "execution_count": 36,
     "metadata": {},
     "output_type": "execute_result"
    }
   ],
   "source": [
    "# You can delete items from a list\n",
    "del(pantry[5])\n",
    "pantry"
   ]
  },
  {
   "cell_type": "code",
   "execution_count": 37,
   "metadata": {},
   "outputs": [
    {
     "data": {
      "text/plain": [
       "['legumes', 'spices', 'snacks', 'canned food', 'spreads']"
      ]
     },
     "execution_count": 37,
     "metadata": {},
     "output_type": "execute_result"
    }
   ],
   "source": [
    "# you can overwrite items in a list\n",
    "pantry[3]=\"canned food\"\n",
    "pantry"
   ]
  },
  {
   "cell_type": "code",
   "execution_count": 38,
   "metadata": {},
   "outputs": [
    {
     "data": {
      "text/plain": [
       "\"it's a string, bitches!\""
      ]
     },
     "execution_count": 38,
     "metadata": {},
     "output_type": "execute_result"
    }
   ],
   "source": [
    "# Convert a string to a list using commas or spaces to break the items apart\n",
    "stringman"
   ]
  },
  {
   "cell_type": "code",
   "execution_count": 39,
   "metadata": {},
   "outputs": [
    {
     "data": {
      "text/plain": [
       "[\"it's\", 'a', 'string,', 'bitches!']"
      ]
     },
     "execution_count": 39,
     "metadata": {},
     "output_type": "execute_result"
    }
   ],
   "source": [
    "stringman.split(' ')"
   ]
  },
  {
   "cell_type": "code",
   "execution_count": 40,
   "metadata": {},
   "outputs": [
    {
     "data": {
      "text/plain": [
       "['A', 'B', 'C', 'D']"
      ]
     },
     "execution_count": 40,
     "metadata": {},
     "output_type": "execute_result"
    }
   ],
   "source": [
    "# Split a string into a list where the delineation is a comma\n",
    "'A,B,C,D'.split(',')"
   ]
  },
  {
   "cell_type": "code",
   "execution_count": 41,
   "metadata": {},
   "outputs": [
    {
     "name": "stdout",
     "output_type": "stream",
     "text": [
      "['legumes', 'spices', 'snacks', 'canned food', 'spreads', 'Christmas pudding', 'Chocolate']\n",
      "['legumes', 'spices', 'snacks', 'canned food', 'spreads']\n"
     ]
    }
   ],
   "source": [
    "# Clone a list, so you can make changes without changing the original\n",
    "xmas_pantry = pantry[:]\n",
    "xmas_pantry.extend([\"Christmas pudding\", \"Chocolate\"])\n",
    "print(xmas_pantry)\n",
    "print(pantry)"
   ]
  },
  {
   "cell_type": "markdown",
   "metadata": {},
   "source": [
    "<h2 id=\"6\"> 6. Set operations </h2>"
   ]
  },
  {
   "cell_type": "code",
   "execution_count": 42,
   "metadata": {},
   "outputs": [
    {
     "data": {
      "text/plain": [
       "{'canned food', 'legumes', 'snacks', 'spices', 'spreads'}"
      ]
     },
     "execution_count": 42,
     "metadata": {},
     "output_type": "execute_result"
    }
   ],
   "source": [
    "# Display a list as a set\n",
    "set(pantry)"
   ]
  },
  {
   "cell_type": "code",
   "execution_count": 43,
   "metadata": {},
   "outputs": [
    {
     "name": "stdout",
     "output_type": "stream",
     "text": [
      "{'snacks', 'legumes', 'canned food', 'spices', 'spreads'}\n"
     ]
    },
    {
     "data": {
      "text/plain": [
       "set"
      ]
     },
     "execution_count": 43,
     "metadata": {},
     "output_type": "execute_result"
    }
   ],
   "source": [
    "# Create a new variable where 'pantry' is a set instead of a list\n",
    "pantry_set = set(pantry)\n",
    "print (pantry_set)\n",
    "type(pantry_set)"
   ]
  },
  {
   "cell_type": "code",
   "execution_count": 44,
   "metadata": {},
   "outputs": [
    {
     "name": "stdout",
     "output_type": "stream",
     "text": [
      "{'dresses', 'shoes', 'tops', 'trousers'}\n"
     ]
    }
   ],
   "source": [
    "# Add to a set\n",
    "wardrobe.add(\"trousers\")\n",
    "print(wardrobe)"
   ]
  },
  {
   "cell_type": "code",
   "execution_count": 45,
   "metadata": {},
   "outputs": [
    {
     "name": "stdout",
     "output_type": "stream",
     "text": [
      "{'dresses', 'tops', 'trousers'}\n"
     ]
    }
   ],
   "source": [
    "# Remove from a set\n",
    "wardrobe.remove(\"shoes\")\n",
    "print(wardrobe)"
   ]
  },
  {
   "cell_type": "code",
   "execution_count": 46,
   "metadata": {},
   "outputs": [
    {
     "data": {
      "text/plain": [
       "False"
      ]
     },
     "execution_count": 46,
     "metadata": {},
     "output_type": "execute_result"
    }
   ],
   "source": [
    "# Check if an item is in the set\n",
    "\"shoes\" in wardrobe"
   ]
  },
  {
   "cell_type": "code",
   "execution_count": 47,
   "metadata": {},
   "outputs": [
    {
     "name": "stdout",
     "output_type": "stream",
     "text": [
      "{'dresses', 'shoes', 'tops', 'trousers'}\n"
     ]
    }
   ],
   "source": [
    "# You can find the intersection of items between two sets, i.e. what items they have in common. \n",
    "# First let's create some sets that have items in common.\n",
    "wardrobe.add(\"shoes\")\n",
    "print(wardrobe)"
   ]
  },
  {
   "cell_type": "code",
   "execution_count": 48,
   "metadata": {},
   "outputs": [
    {
     "name": "stdout",
     "output_type": "stream",
     "text": [
      "{'masks', 'shoes', 'sunglasses', 'keys'}\n"
     ]
    }
   ],
   "source": [
    "entryway = {\"keys\",\"sunglasses\",\"masks\",\"shoes\"}\n",
    "print(entryway)"
   ]
  },
  {
   "cell_type": "code",
   "execution_count": 49,
   "metadata": {},
   "outputs": [
    {
     "name": "stdout",
     "output_type": "stream",
     "text": [
      "{'shoes'}\n"
     ]
    }
   ],
   "source": [
    "# Now let's find the overlap between the two sets and create a third variable for it.\n",
    "common_items = wardrobe & entryway\n",
    "print(common_items)"
   ]
  },
  {
   "cell_type": "code",
   "execution_count": 50,
   "metadata": {},
   "outputs": [
    {
     "data": {
      "text/plain": [
       "{'dresses', 'keys', 'masks', 'shoes', 'sunglasses', 'tops', 'trousers'}"
      ]
     },
     "execution_count": 50,
     "metadata": {},
     "output_type": "execute_result"
    }
   ],
   "source": [
    "# We can also display all items in both sets (why?)\n",
    "wardrobe.union (entryway)"
   ]
  },
  {
   "cell_type": "code",
   "execution_count": 51,
   "metadata": {},
   "outputs": [
    {
     "name": "stdout",
     "output_type": "stream",
     "text": [
      "{'keys', 'masks', 'sunglasses', 'trousers', 'dresses', 'shoes', 'tops'}\n"
     ]
    }
   ],
   "source": [
    "# Can I make a variable for that to keep it neat? \n",
    "sets_combined = wardrobe.union (entryway)\n",
    "\n",
    "#looks like I can. \n",
    "print(sets_combined)"
   ]
  },
  {
   "cell_type": "code",
   "execution_count": 52,
   "metadata": {},
   "outputs": [
    {
     "data": {
      "text/plain": [
       "{'dresses', 'tops', 'trousers'}"
      ]
     },
     "execution_count": 52,
     "metadata": {},
     "output_type": "execute_result"
    }
   ],
   "source": [
    "# I can see what is in wardrobe that isn't in entryway with difference:\n",
    "wardrobe.difference (entryway)"
   ]
  },
  {
   "cell_type": "code",
   "execution_count": 53,
   "metadata": {},
   "outputs": [
    {
     "data": {
      "text/plain": [
       "True"
      ]
     },
     "execution_count": 53,
     "metadata": {},
     "output_type": "execute_result"
    }
   ],
   "source": [
    "# I can also confirm whether or not common_items is a subset of wardrobe:\n",
    "common_items.issubset (wardrobe)"
   ]
  },
  {
   "cell_type": "code",
   "execution_count": 54,
   "metadata": {},
   "outputs": [
    {
     "data": {
      "text/plain": [
       "True"
      ]
     },
     "execution_count": 54,
     "metadata": {},
     "output_type": "execute_result"
    }
   ],
   "source": [
    "# I can also check if it's a superset:\n",
    "wardrobe.issuperset (common_items)"
   ]
  },
  {
   "cell_type": "code",
   "execution_count": 55,
   "metadata": {},
   "outputs": [
    {
     "data": {
      "text/plain": [
       "True"
      ]
     },
     "execution_count": 55,
     "metadata": {},
     "output_type": "execute_result"
    }
   ],
   "source": [
    "# I can also do this in a looser way, naming items:\n",
    "{\"shoes\", \"tops\"}.issubset (wardrobe)"
   ]
  },
  {
   "cell_type": "markdown",
   "metadata": {},
   "source": [
    "<h2 id='7'> 7. Dictionary operations </h2>"
   ]
  },
  {
   "cell_type": "code",
   "execution_count": 56,
   "metadata": {},
   "outputs": [
    {
     "data": {
      "text/plain": [
       "{'legumes': ['rice', 'beans', 'lentils'],\n",
       " 'spices': ['cumin', 'paprika', 'cinnamon']}"
      ]
     },
     "execution_count": 56,
     "metadata": {},
     "output_type": "execute_result"
    }
   ],
   "source": [
    "# Here's the dictionary we made\n",
    "pantry_dict"
   ]
  },
  {
   "cell_type": "code",
   "execution_count": 57,
   "metadata": {},
   "outputs": [
    {
     "data": {
      "text/plain": [
       "['cumin', 'paprika', 'cinnamon']"
      ]
     },
     "execution_count": 57,
     "metadata": {},
     "output_type": "execute_result"
    }
   ],
   "source": [
    "# Search the dictionary by using the name of the dictionary and the key in square brackets.\n",
    "pantry_dict[\"spices\"]"
   ]
  },
  {
   "cell_type": "code",
   "execution_count": 58,
   "metadata": {},
   "outputs": [],
   "source": [
    "# Add a new entry\n",
    "pantry_dict[\"snacks\"] = \"crackers\""
   ]
  },
  {
   "cell_type": "code",
   "execution_count": 59,
   "metadata": {},
   "outputs": [
    {
     "data": {
      "text/plain": [
       "{'legumes': ['rice', 'beans', 'lentils'],\n",
       " 'spices': ['cumin', 'paprika', 'cinnamon'],\n",
       " 'snacks': 'crackers'}"
      ]
     },
     "execution_count": 59,
     "metadata": {},
     "output_type": "execute_result"
    }
   ],
   "source": [
    "pantry_dict"
   ]
  },
  {
   "cell_type": "code",
   "execution_count": 60,
   "metadata": {},
   "outputs": [
    {
     "data": {
      "text/plain": [
       "{'legumes': ['rice', 'beans', 'lentils'],\n",
       " 'spices': ['cumin', 'paprika', 'cinnamon']}"
      ]
     },
     "execution_count": 60,
     "metadata": {},
     "output_type": "execute_result"
    }
   ],
   "source": [
    "# Delete a key \n",
    "del(pantry_dict['snacks'])\n",
    "pantry_dict"
   ]
  },
  {
   "cell_type": "code",
   "execution_count": 61,
   "metadata": {},
   "outputs": [
    {
     "data": {
      "text/plain": [
       "True"
      ]
     },
     "execution_count": 61,
     "metadata": {},
     "output_type": "execute_result"
    }
   ],
   "source": [
    "# Confirm an item is in the dictionary \n",
    "\"spices\" in pantry_dict"
   ]
  },
  {
   "cell_type": "code",
   "execution_count": 62,
   "metadata": {},
   "outputs": [
    {
     "data": {
      "text/plain": [
       "True"
      ]
     },
     "execution_count": 62,
     "metadata": {},
     "output_type": "execute_result"
    }
   ],
   "source": [
    "# Same again but within a key\n",
    "\"cumin\" in (pantry_dict['spices'])"
   ]
  },
  {
   "cell_type": "code",
   "execution_count": 63,
   "metadata": {},
   "outputs": [
    {
     "data": {
      "text/plain": [
       "dict_keys(['legumes', 'spices'])"
      ]
     },
     "execution_count": 63,
     "metadata": {},
     "output_type": "execute_result"
    }
   ],
   "source": [
    "# List all the keys\n",
    "pantry_dict.keys()"
   ]
  },
  {
   "cell_type": "code",
   "execution_count": 64,
   "metadata": {},
   "outputs": [
    {
     "data": {
      "text/plain": [
       "dict_values([['rice', 'beans', 'lentils'], ['cumin', 'paprika', 'cinnamon']])"
      ]
     },
     "execution_count": 64,
     "metadata": {},
     "output_type": "execute_result"
    }
   ],
   "source": [
    "# List all values\n",
    "pantry_dict.values()"
   ]
  },
  {
   "cell_type": "code",
   "execution_count": 65,
   "metadata": {},
   "outputs": [],
   "source": [
    "# You can use tuples and lists in both the key and the value as well. "
   ]
  },
  {
   "cell_type": "code",
   "execution_count": null,
   "metadata": {},
   "outputs": [],
   "source": []
  }
 ],
 "metadata": {
  "kernelspec": {
   "display_name": "Python 3",
   "language": "python",
   "name": "python3"
  },
  "language_info": {
   "codemirror_mode": {
    "name": "ipython",
    "version": 3
   },
   "file_extension": ".py",
   "mimetype": "text/x-python",
   "name": "python",
   "nbconvert_exporter": "python",
   "pygments_lexer": "ipython3",
   "version": "3.8.3"
  }
 },
 "nbformat": 4,
 "nbformat_minor": 4
}
